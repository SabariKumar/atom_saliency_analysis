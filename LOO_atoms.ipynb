{
 "cells": [
  {
   "cell_type": "code",
   "execution_count": 11,
   "metadata": {},
   "outputs": [],
   "source": [
    "import pandas as pd\n",
    "import numpy as np\n",
    "import matplotlib.pyplot as plt"
   ]
  },
  {
   "cell_type": "markdown",
   "metadata": {},
   "source": [
    "* [ShAP Analysis](#ShAP)\n",
    "* [LOO Atom Feature Vectors](#LOOA)"
   ]
  },
  {
   "cell_type": "code",
   "execution_count": 2,
   "metadata": {},
   "outputs": [
    {
     "data": {
      "text/html": [
       "<div>\n",
       "<style scoped>\n",
       "    .dataframe tbody tr th:only-of-type {\n",
       "        vertical-align: middle;\n",
       "    }\n",
       "\n",
       "    .dataframe tbody tr th {\n",
       "        vertical-align: top;\n",
       "    }\n",
       "\n",
       "    .dataframe thead th {\n",
       "        text-align: right;\n",
       "    }\n",
       "</style>\n",
       "<table border=\"1\" class=\"dataframe\">\n",
       "  <thead>\n",
       "    <tr style=\"text-align: right;\">\n",
       "      <th></th>\n",
       "      <th>Canonical_SMILES</th>\n",
       "      <th>predicted</th>\n",
       "      <th>glob_vector</th>\n",
       "    </tr>\n",
       "  </thead>\n",
       "  <tbody>\n",
       "    <tr>\n",
       "      <th>0</th>\n",
       "      <td>CCCCCCCCC=CCCCCCCCC(=O)OC</td>\n",
       "      <td>57.968250</td>\n",
       "      <td>2.691359 14.592577 -9.436016 -5.058426 3.00275...</td>\n",
       "    </tr>\n",
       "    <tr>\n",
       "      <th>1</th>\n",
       "      <td>CCCCC/C=C\\C/C=C\\CCCCCCCC(=O)O</td>\n",
       "      <td>32.391770</td>\n",
       "      <td>1.516830 8.199538 -5.012877 -3.377009 1.524693...</td>\n",
       "    </tr>\n",
       "    <tr>\n",
       "      <th>2</th>\n",
       "      <td>CCCCC1CCCC2CCCCC12</td>\n",
       "      <td>29.558363</td>\n",
       "      <td>1.745942 7.646198 -4.469604 -2.352664 1.533207...</td>\n",
       "    </tr>\n",
       "    <tr>\n",
       "      <th>3</th>\n",
       "      <td>C=CC(C)=CCC=C(C)C</td>\n",
       "      <td>28.981422</td>\n",
       "      <td>1.265745 7.677176 -4.606571 -2.230392 1.572281...</td>\n",
       "    </tr>\n",
       "    <tr>\n",
       "      <th>4</th>\n",
       "      <td>CCCCCCCC(=O)OCC</td>\n",
       "      <td>41.965748</td>\n",
       "      <td>1.682150 10.854991 -6.497654 -3.748829 2.38611...</td>\n",
       "    </tr>\n",
       "    <tr>\n",
       "      <th>...</th>\n",
       "      <td>...</td>\n",
       "      <td>...</td>\n",
       "      <td>...</td>\n",
       "    </tr>\n",
       "    <tr>\n",
       "      <th>625</th>\n",
       "      <td>CCCCCCCCCCCCCCCCCC(=O)O</td>\n",
       "      <td>70.268486</td>\n",
       "      <td>4.218514 18.318501 -10.543983 -6.405914 4.1426...</td>\n",
       "    </tr>\n",
       "    <tr>\n",
       "      <th>626</th>\n",
       "      <td>CCCCCCCCCCCCCCCCc1cc(C)cc(C)c1C</td>\n",
       "      <td>38.849712</td>\n",
       "      <td>2.940196 9.780895 -6.842910 -3.857143 3.013691...</td>\n",
       "    </tr>\n",
       "    <tr>\n",
       "      <th>627</th>\n",
       "      <td>CCCCCCOC(=O)c1ccccc1C(=O)OCCCCCC</td>\n",
       "      <td>46.116287</td>\n",
       "      <td>1.885478 14.634891 -7.869593 -3.706098 2.03854...</td>\n",
       "    </tr>\n",
       "    <tr>\n",
       "      <th>628</th>\n",
       "      <td>CCCc1ccc2c(c1)CCCC2</td>\n",
       "      <td>7.196461</td>\n",
       "      <td>0.202410 1.829507 -1.479237 -0.212674 0.350839...</td>\n",
       "    </tr>\n",
       "    <tr>\n",
       "      <th>629</th>\n",
       "      <td>c1ccc(-c2ccccc2)cc1</td>\n",
       "      <td>18.142870</td>\n",
       "      <td>0.730708 5.888424 -2.943194 -0.857465 0.684854...</td>\n",
       "    </tr>\n",
       "  </tbody>\n",
       "</table>\n",
       "<p>630 rows × 3 columns</p>\n",
       "</div>"
      ],
      "text/plain": [
       "                     Canonical_SMILES  predicted  \\\n",
       "0           CCCCCCCCC=CCCCCCCCC(=O)OC  57.968250   \n",
       "1       CCCCC/C=C\\C/C=C\\CCCCCCCC(=O)O  32.391770   \n",
       "2                  CCCCC1CCCC2CCCCC12  29.558363   \n",
       "3                   C=CC(C)=CCC=C(C)C  28.981422   \n",
       "4                     CCCCCCCC(=O)OCC  41.965748   \n",
       "..                                ...        ...   \n",
       "625           CCCCCCCCCCCCCCCCCC(=O)O  70.268486   \n",
       "626   CCCCCCCCCCCCCCCCc1cc(C)cc(C)c1C  38.849712   \n",
       "627  CCCCCCOC(=O)c1ccccc1C(=O)OCCCCCC  46.116287   \n",
       "628               CCCc1ccc2c(c1)CCCC2   7.196461   \n",
       "629               c1ccc(-c2ccccc2)cc1  18.142870   \n",
       "\n",
       "                                           glob_vector  \n",
       "0    2.691359 14.592577 -9.436016 -5.058426 3.00275...  \n",
       "1    1.516830 8.199538 -5.012877 -3.377009 1.524693...  \n",
       "2    1.745942 7.646198 -4.469604 -2.352664 1.533207...  \n",
       "3    1.265745 7.677176 -4.606571 -2.230392 1.572281...  \n",
       "4    1.682150 10.854991 -6.497654 -3.748829 2.38611...  \n",
       "..                                                 ...  \n",
       "625  4.218514 18.318501 -10.543983 -6.405914 4.1426...  \n",
       "626  2.940196 9.780895 -6.842910 -3.857143 3.013691...  \n",
       "627  1.885478 14.634891 -7.869593 -3.706098 2.03854...  \n",
       "628  0.202410 1.829507 -1.479237 -0.212674 0.350839...  \n",
       "629  0.730708 5.888424 -2.943194 -0.857465 0.684854...  \n",
       "\n",
       "[630 rows x 3 columns]"
      ]
     },
     "execution_count": 2,
     "metadata": {},
     "output_type": "execute_result"
    }
   ],
   "source": [
    "pred_results = pd.read_csv('CN_prediction/prediction_results.csv')\n",
    "pred_results"
   ]
  },
  {
   "cell_type": "code",
   "execution_count": 3,
   "metadata": {},
   "outputs": [],
   "source": [
    "glob_vecs = []\n",
    "for item in pred_results['glob_vector']:\n",
    "    glob_vecs.append(item.split(' '))\n",
    "pred_results['glob_vecs'] = glob_vecs"
   ]
  },
  {
   "cell_type": "code",
   "execution_count": 4,
   "metadata": {},
   "outputs": [],
   "source": [
    "pred_results = pred_results.drop(['glob_vector'], axis=1)"
   ]
  },
  {
   "cell_type": "code",
   "execution_count": 5,
   "metadata": {},
   "outputs": [
    {
     "data": {
      "text/html": [
       "<div>\n",
       "<style scoped>\n",
       "    .dataframe tbody tr th:only-of-type {\n",
       "        vertical-align: middle;\n",
       "    }\n",
       "\n",
       "    .dataframe tbody tr th {\n",
       "        vertical-align: top;\n",
       "    }\n",
       "\n",
       "    .dataframe thead th {\n",
       "        text-align: right;\n",
       "    }\n",
       "</style>\n",
       "<table border=\"1\" class=\"dataframe\">\n",
       "  <thead>\n",
       "    <tr style=\"text-align: right;\">\n",
       "      <th></th>\n",
       "      <th>Canonical_SMILES</th>\n",
       "      <th>predicted</th>\n",
       "      <th>glob_vecs</th>\n",
       "    </tr>\n",
       "  </thead>\n",
       "  <tbody>\n",
       "    <tr>\n",
       "      <th>0</th>\n",
       "      <td>CCCCCCCCC=CCCCCCCCC(=O)OC</td>\n",
       "      <td>57.968250</td>\n",
       "      <td>[2.691359, 14.592577, -9.436016, -5.058426, 3....</td>\n",
       "    </tr>\n",
       "    <tr>\n",
       "      <th>1</th>\n",
       "      <td>CCCCC/C=C\\C/C=C\\CCCCCCCC(=O)O</td>\n",
       "      <td>32.391770</td>\n",
       "      <td>[1.516830, 8.199538, -5.012877, -3.377009, 1.5...</td>\n",
       "    </tr>\n",
       "    <tr>\n",
       "      <th>2</th>\n",
       "      <td>CCCCC1CCCC2CCCCC12</td>\n",
       "      <td>29.558363</td>\n",
       "      <td>[1.745942, 7.646198, -4.469604, -2.352664, 1.5...</td>\n",
       "    </tr>\n",
       "    <tr>\n",
       "      <th>3</th>\n",
       "      <td>C=CC(C)=CCC=C(C)C</td>\n",
       "      <td>28.981422</td>\n",
       "      <td>[1.265745, 7.677176, -4.606571, -2.230392, 1.5...</td>\n",
       "    </tr>\n",
       "    <tr>\n",
       "      <th>4</th>\n",
       "      <td>CCCCCCCC(=O)OCC</td>\n",
       "      <td>41.965748</td>\n",
       "      <td>[1.682150, 10.854991, -6.497654, -3.748829, 2....</td>\n",
       "    </tr>\n",
       "    <tr>\n",
       "      <th>...</th>\n",
       "      <td>...</td>\n",
       "      <td>...</td>\n",
       "      <td>...</td>\n",
       "    </tr>\n",
       "    <tr>\n",
       "      <th>625</th>\n",
       "      <td>CCCCCCCCCCCCCCCCCC(=O)O</td>\n",
       "      <td>70.268486</td>\n",
       "      <td>[4.218514, 18.318501, -10.543983, -6.405914, 4...</td>\n",
       "    </tr>\n",
       "    <tr>\n",
       "      <th>626</th>\n",
       "      <td>CCCCCCCCCCCCCCCCc1cc(C)cc(C)c1C</td>\n",
       "      <td>38.849712</td>\n",
       "      <td>[2.940196, 9.780895, -6.842910, -3.857143, 3.0...</td>\n",
       "    </tr>\n",
       "    <tr>\n",
       "      <th>627</th>\n",
       "      <td>CCCCCCOC(=O)c1ccccc1C(=O)OCCCCCC</td>\n",
       "      <td>46.116287</td>\n",
       "      <td>[1.885478, 14.634891, -7.869593, -3.706098, 2....</td>\n",
       "    </tr>\n",
       "    <tr>\n",
       "      <th>628</th>\n",
       "      <td>CCCc1ccc2c(c1)CCCC2</td>\n",
       "      <td>7.196461</td>\n",
       "      <td>[0.202410, 1.829507, -1.479237, -0.212674, 0.3...</td>\n",
       "    </tr>\n",
       "    <tr>\n",
       "      <th>629</th>\n",
       "      <td>c1ccc(-c2ccccc2)cc1</td>\n",
       "      <td>18.142870</td>\n",
       "      <td>[0.730708, 5.888424, -2.943194, -0.857465, 0.6...</td>\n",
       "    </tr>\n",
       "  </tbody>\n",
       "</table>\n",
       "<p>630 rows × 3 columns</p>\n",
       "</div>"
      ],
      "text/plain": [
       "                     Canonical_SMILES  predicted  \\\n",
       "0           CCCCCCCCC=CCCCCCCCC(=O)OC  57.968250   \n",
       "1       CCCCC/C=C\\C/C=C\\CCCCCCCC(=O)O  32.391770   \n",
       "2                  CCCCC1CCCC2CCCCC12  29.558363   \n",
       "3                   C=CC(C)=CCC=C(C)C  28.981422   \n",
       "4                     CCCCCCCC(=O)OCC  41.965748   \n",
       "..                                ...        ...   \n",
       "625           CCCCCCCCCCCCCCCCCC(=O)O  70.268486   \n",
       "626   CCCCCCCCCCCCCCCCc1cc(C)cc(C)c1C  38.849712   \n",
       "627  CCCCCCOC(=O)c1ccccc1C(=O)OCCCCCC  46.116287   \n",
       "628               CCCc1ccc2c(c1)CCCC2   7.196461   \n",
       "629               c1ccc(-c2ccccc2)cc1  18.142870   \n",
       "\n",
       "                                             glob_vecs  \n",
       "0    [2.691359, 14.592577, -9.436016, -5.058426, 3....  \n",
       "1    [1.516830, 8.199538, -5.012877, -3.377009, 1.5...  \n",
       "2    [1.745942, 7.646198, -4.469604, -2.352664, 1.5...  \n",
       "3    [1.265745, 7.677176, -4.606571, -2.230392, 1.5...  \n",
       "4    [1.682150, 10.854991, -6.497654, -3.748829, 2....  \n",
       "..                                                 ...  \n",
       "625  [4.218514, 18.318501, -10.543983, -6.405914, 4...  \n",
       "626  [2.940196, 9.780895, -6.842910, -3.857143, 3.0...  \n",
       "627  [1.885478, 14.634891, -7.869593, -3.706098, 2....  \n",
       "628  [0.202410, 1.829507, -1.479237, -0.212674, 0.3...  \n",
       "629  [0.730708, 5.888424, -2.943194, -0.857465, 0.6...  \n",
       "\n",
       "[630 rows x 3 columns]"
      ]
     },
     "execution_count": 5,
     "metadata": {},
     "output_type": "execute_result"
    }
   ],
   "source": [
    "pred_results"
   ]
  },
  {
   "cell_type": "code",
   "execution_count": 6,
   "metadata": {},
   "outputs": [
    {
     "data": {
      "image/png": "[encoded data removed]",
      "text/plain": [
       "<Figure size 432x288 with 1 Axes>"
      ]
     },
     "metadata": {
      "needs_background": "light"
     },
     "output_type": "display_data"
    }
   ],
   "source": [
    "norms = []\n",
    "for vec in pred_results['glob_vecs']:\n",
    "    vec_arr = np.array(vec)\n",
    "    norms.append(np.linalg.norm(vec_arr, ord = 2))\n",
    "\n",
    "fig = plt.figure()\n",
    "ax1 = fig.add_subplot(111)\n",
    "ax1.scatter(pred_results['predicted'], norms)\n",
    "ax1.set_xlabel('Predicted CN Number')\n",
    "ax1.set_ylabel('L2 Norm of Global Feature Vector Elements')\n",
    "plt.show()"
   ]
  },
  {
   "cell_type": "code",
   "execution_count": null,
   "metadata": {},
   "outputs": [],
   "source": [
    "Get Tanimoto, Morgan fingerprints -> compare pairwise similarity w/ global vector pairwise element difference"
   ]
  },
  {
   "cell_type": "code",
   "execution_count": 7,
   "metadata": {},
   "outputs": [],
   "source": [
    "from rdkit import Chem\n",
    "from rdkit import DataStructs\n",
    "from rdkit.Chem.Fingerprints import FingerprintMols\n",
    "import itertools"
   ]
  },
  {
   "cell_type": "code",
   "execution_count": 30,
   "metadata": {},
   "outputs": [
    {
     "name": "stdout",
     "output_type": "stream",
     "text": [
      "CCCCCCCCC=CCCCCCCCC(=O)OC 1         CCCCC/C=C\\C/C=C\\CCCCCCCC(=O)O\n",
      "2                    CCCCC1CCCC2CCCCC12\n",
      "3                     C=CC(C)=CCC=C(C)C\n",
      "4                       CCCCCCCC(=O)OCC\n",
      "5                  CCCCCCCC(CCC)CCCCCCC\n",
      "                     ...               \n",
      "625             CCCCCCCCCCCCCCCCCC(=O)O\n",
      "626     CCCCCCCCCCCCCCCCc1cc(C)cc(C)c1C\n",
      "627    CCCCCCOC(=O)c1ccccc1C(=O)OCCCCCC\n",
      "628                 CCCc1ccc2c(c1)CCCC2\n",
      "629                 c1ccc(-c2ccccc2)cc1\n",
      "Name: Canonical_SMILES, Length: 629, dtype: object\n"
     ]
    },
    {
     "ename": "KeyError",
     "evalue": "0",
     "output_type": "error",
     "traceback": [
      "\u001b[0;31m---------------------------------------------------------------------------\u001b[0m",
      "\u001b[0;31mValueError\u001b[0m                                Traceback (most recent call last)",
      "\u001b[0;32m~/anaconda3/envs/rdKit/lib/python3.6/site-packages/pandas/core/indexes/range.py\u001b[0m in \u001b[0;36mget_loc\u001b[0;34m(self, key, method, tolerance)\u001b[0m\n\u001b[1;32m    354\u001b[0m                 \u001b[0;32mtry\u001b[0m\u001b[0;34m:\u001b[0m\u001b[0;34m\u001b[0m\u001b[0;34m\u001b[0m\u001b[0m\n\u001b[0;32m--> 355\u001b[0;31m                     \u001b[0;32mreturn\u001b[0m \u001b[0mself\u001b[0m\u001b[0;34m.\u001b[0m\u001b[0m_range\u001b[0m\u001b[0;34m.\u001b[0m\u001b[0mindex\u001b[0m\u001b[0;34m(\u001b[0m\u001b[0mnew_key\u001b[0m\u001b[0;34m)\u001b[0m\u001b[0;34m\u001b[0m\u001b[0;34m\u001b[0m\u001b[0m\n\u001b[0m\u001b[1;32m    356\u001b[0m                 \u001b[0;32mexcept\u001b[0m \u001b[0mValueError\u001b[0m \u001b[0;32mas\u001b[0m \u001b[0merr\u001b[0m\u001b[0;34m:\u001b[0m\u001b[0;34m\u001b[0m\u001b[0;34m\u001b[0m\u001b[0m\n",
      "\u001b[0;31mValueError\u001b[0m: 0 is not in range",
      "\nThe above exception was the direct cause of the following exception:\n",
      "\u001b[0;31mKeyError\u001b[0m                                  Traceback (most recent call last)",
      "\u001b[0;32m<ipython-input-30-052694956256>\u001b[0m in \u001b[0;36m<module>\u001b[0;34m\u001b[0m\n\u001b[1;32m      9\u001b[0m         \u001b[0;32mfor\u001b[0m \u001b[0mm\u001b[0m \u001b[0;32min\u001b[0m \u001b[0mrange\u001b[0m\u001b[0;34m(\u001b[0m\u001b[0mlen\u001b[0m\u001b[0;34m(\u001b[0m\u001b[0ms\u001b[0m\u001b[0;34m)\u001b[0m\u001b[0;34m)\u001b[0m\u001b[0;34m:\u001b[0m\u001b[0;34m\u001b[0m\u001b[0;34m\u001b[0m\u001b[0m\n\u001b[1;32m     10\u001b[0m             \u001b[0mqu\u001b[0m\u001b[0;34m.\u001b[0m\u001b[0mappend\u001b[0m\u001b[0;34m(\u001b[0m\u001b[0mpred_results\u001b[0m\u001b[0;34m[\u001b[0m\u001b[0;34m'Canonical_SMILES'\u001b[0m\u001b[0;34m]\u001b[0m\u001b[0;34m[\u001b[0m\u001b[0mn\u001b[0m\u001b[0;34m]\u001b[0m\u001b[0;34m)\u001b[0m\u001b[0;34m\u001b[0m\u001b[0;34m\u001b[0m\u001b[0m\n\u001b[0;32m---> 11\u001b[0;31m             \u001b[0mta\u001b[0m\u001b[0;34m.\u001b[0m\u001b[0mappend\u001b[0m\u001b[0;34m(\u001b[0m\u001b[0mpred_results\u001b[0m\u001b[0;34m[\u001b[0m\u001b[0;34m'Canonical_SMILES'\u001b[0m\u001b[0;34m]\u001b[0m\u001b[0;34m[\u001b[0m\u001b[0mn\u001b[0m\u001b[0;34m+\u001b[0m\u001b[0;36m1\u001b[0m\u001b[0;34m:\u001b[0m\u001b[0;34m]\u001b[0m\u001b[0;34m[\u001b[0m\u001b[0mm\u001b[0m\u001b[0;34m]\u001b[0m\u001b[0;34m)\u001b[0m\u001b[0;34m\u001b[0m\u001b[0;34m\u001b[0m\u001b[0m\n\u001b[0m\u001b[1;32m     12\u001b[0m             \u001b[0msim\u001b[0m\u001b[0;34m.\u001b[0m\u001b[0mappend\u001b[0m\u001b[0;34m(\u001b[0m\u001b[0ms\u001b[0m\u001b[0;34m[\u001b[0m\u001b[0mm\u001b[0m\u001b[0;34m]\u001b[0m\u001b[0;34m)\u001b[0m\u001b[0;34m\u001b[0m\u001b[0;34m\u001b[0m\u001b[0m\n\u001b[1;32m     13\u001b[0m \u001b[0mprint\u001b[0m\u001b[0;34m(\u001b[0m\u001b[0;34m)\u001b[0m\u001b[0;34m\u001b[0m\u001b[0;34m\u001b[0m\u001b[0m\n",
      "\u001b[0;32m~/anaconda3/envs/rdKit/lib/python3.6/site-packages/pandas/core/series.py\u001b[0m in \u001b[0;36m__getitem__\u001b[0;34m(self, key)\u001b[0m\n\u001b[1;32m    880\u001b[0m \u001b[0;34m\u001b[0m\u001b[0m\n\u001b[1;32m    881\u001b[0m         \u001b[0;32melif\u001b[0m \u001b[0mkey_is_scalar\u001b[0m\u001b[0;34m:\u001b[0m\u001b[0;34m\u001b[0m\u001b[0;34m\u001b[0m\u001b[0m\n\u001b[0;32m--> 882\u001b[0;31m             \u001b[0;32mreturn\u001b[0m \u001b[0mself\u001b[0m\u001b[0;34m.\u001b[0m\u001b[0m_get_value\u001b[0m\u001b[0;34m(\u001b[0m\u001b[0mkey\u001b[0m\u001b[0;34m)\u001b[0m\u001b[0;34m\u001b[0m\u001b[0;34m\u001b[0m\u001b[0m\n\u001b[0m\u001b[1;32m    883\u001b[0m \u001b[0;34m\u001b[0m\u001b[0m\n\u001b[1;32m    884\u001b[0m         \u001b[0;32mif\u001b[0m \u001b[0mis_hashable\u001b[0m\u001b[0;34m(\u001b[0m\u001b[0mkey\u001b[0m\u001b[0;34m)\u001b[0m\u001b[0;34m:\u001b[0m\u001b[0;34m\u001b[0m\u001b[0;34m\u001b[0m\u001b[0m\n",
      "\u001b[0;32m~/anaconda3/envs/rdKit/lib/python3.6/site-packages/pandas/core/series.py\u001b[0m in \u001b[0;36m_get_value\u001b[0;34m(self, label, takeable)\u001b[0m\n\u001b[1;32m    988\u001b[0m \u001b[0;34m\u001b[0m\u001b[0m\n\u001b[1;32m    989\u001b[0m         \u001b[0;31m# Similar to Index.get_value, but we do not fall back to positional\u001b[0m\u001b[0;34m\u001b[0m\u001b[0;34m\u001b[0m\u001b[0;34m\u001b[0m\u001b[0m\n\u001b[0;32m--> 990\u001b[0;31m         \u001b[0mloc\u001b[0m \u001b[0;34m=\u001b[0m \u001b[0mself\u001b[0m\u001b[0;34m.\u001b[0m\u001b[0mindex\u001b[0m\u001b[0;34m.\u001b[0m\u001b[0mget_loc\u001b[0m\u001b[0;34m(\u001b[0m\u001b[0mlabel\u001b[0m\u001b[0;34m)\u001b[0m\u001b[0;34m\u001b[0m\u001b[0;34m\u001b[0m\u001b[0m\n\u001b[0m\u001b[1;32m    991\u001b[0m         \u001b[0;32mreturn\u001b[0m \u001b[0mself\u001b[0m\u001b[0;34m.\u001b[0m\u001b[0mindex\u001b[0m\u001b[0;34m.\u001b[0m\u001b[0m_get_values_for_loc\u001b[0m\u001b[0;34m(\u001b[0m\u001b[0mself\u001b[0m\u001b[0;34m,\u001b[0m \u001b[0mloc\u001b[0m\u001b[0;34m,\u001b[0m \u001b[0mlabel\u001b[0m\u001b[0;34m)\u001b[0m\u001b[0;34m\u001b[0m\u001b[0;34m\u001b[0m\u001b[0m\n\u001b[1;32m    992\u001b[0m \u001b[0;34m\u001b[0m\u001b[0m\n",
      "\u001b[0;32m~/anaconda3/envs/rdKit/lib/python3.6/site-packages/pandas/core/indexes/range.py\u001b[0m in \u001b[0;36mget_loc\u001b[0;34m(self, key, method, tolerance)\u001b[0m\n\u001b[1;32m    355\u001b[0m                     \u001b[0;32mreturn\u001b[0m \u001b[0mself\u001b[0m\u001b[0;34m.\u001b[0m\u001b[0m_range\u001b[0m\u001b[0;34m.\u001b[0m\u001b[0mindex\u001b[0m\u001b[0;34m(\u001b[0m\u001b[0mnew_key\u001b[0m\u001b[0;34m)\u001b[0m\u001b[0;34m\u001b[0m\u001b[0;34m\u001b[0m\u001b[0m\n\u001b[1;32m    356\u001b[0m                 \u001b[0;32mexcept\u001b[0m \u001b[0mValueError\u001b[0m \u001b[0;32mas\u001b[0m \u001b[0merr\u001b[0m\u001b[0;34m:\u001b[0m\u001b[0;34m\u001b[0m\u001b[0;34m\u001b[0m\u001b[0m\n\u001b[0;32m--> 357\u001b[0;31m                     \u001b[0;32mraise\u001b[0m \u001b[0mKeyError\u001b[0m\u001b[0;34m(\u001b[0m\u001b[0mkey\u001b[0m\u001b[0;34m)\u001b[0m \u001b[0;32mfrom\u001b[0m \u001b[0merr\u001b[0m\u001b[0;34m\u001b[0m\u001b[0;34m\u001b[0m\u001b[0m\n\u001b[0m\u001b[1;32m    358\u001b[0m             \u001b[0;32mraise\u001b[0m \u001b[0mKeyError\u001b[0m\u001b[0;34m(\u001b[0m\u001b[0mkey\u001b[0m\u001b[0;34m)\u001b[0m\u001b[0;34m\u001b[0m\u001b[0;34m\u001b[0m\u001b[0m\n\u001b[1;32m    359\u001b[0m         \u001b[0;32mreturn\u001b[0m \u001b[0msuper\u001b[0m\u001b[0;34m(\u001b[0m\u001b[0;34m)\u001b[0m\u001b[0;34m.\u001b[0m\u001b[0mget_loc\u001b[0m\u001b[0;34m(\u001b[0m\u001b[0mkey\u001b[0m\u001b[0;34m,\u001b[0m \u001b[0mmethod\u001b[0m\u001b[0;34m=\u001b[0m\u001b[0mmethod\u001b[0m\u001b[0;34m,\u001b[0m \u001b[0mtolerance\u001b[0m\u001b[0;34m=\u001b[0m\u001b[0mtolerance\u001b[0m\u001b[0;34m)\u001b[0m\u001b[0;34m\u001b[0m\u001b[0;34m\u001b[0m\u001b[0m\n",
      "\u001b[0;31mKeyError\u001b[0m: 0"
     ]
    }
   ],
   "source": [
    "mols = [Chem.MolFromSmiles(x) for x in pred_results['Canonical_SMILES']]\n",
    "fps = [FingerprintMols.FingerprintMol(x) for x in mols]\n",
    "qu, ta, sim = [], [], []\n",
    "for n in range(len(fps)): # -1 so the last fp will not be used\n",
    "    s = DataStructs.BulkTanimotoSimilarity(fps[n], fps[n+1:]) \n",
    "    print(pred_results['Canonical_SMILES'][n], pred_results['Canonical_SMILES'][n+1:])\n",
    "    # collect the SMILES and values\n",
    "    if len(s)>0:\n",
    "        for m in range(len(s)):\n",
    "            qu.append(pred_results['Canonical_SMILES'][n])\n",
    "            ta.append(pred_results['Canonical_SMILES'][n+1:][m])\n",
    "            sim.append(s[m])\n",
    "print()\n",
    "\n",
    "# build the dataframe and sort it\n",
    "d = {'query':qu, 'target':ta, 'Similarity':sim}\n",
    "df_final = pd.DataFrame(data=d)\n",
    "df_final = df_final.sort_values('Similarity', ascending=False)\n",
    "print(df_final)\n"
   ]
  },
  {
   "cell_type": "code",
   "execution_count": 8,
   "metadata": {},
   "outputs": [
    {
     "ename": "KeyboardInterrupt",
     "evalue": "",
     "output_type": "error",
     "traceback": [
      "\u001b[0;31m---------------------------------------------------------------------------\u001b[0m",
      "\u001b[0;31mKeyboardInterrupt\u001b[0m                         Traceback (most recent call last)",
      "\u001b[0;32m<ipython-input-8-d850da9ee812>\u001b[0m in \u001b[0;36m<module>\u001b[0;34m\u001b[0m\n\u001b[1;32m      7\u001b[0m     \u001b[0ms\u001b[0m \u001b[0;34m=\u001b[0m \u001b[0mDataStructs\u001b[0m\u001b[0;34m.\u001b[0m\u001b[0mFingerprintSimilarity\u001b[0m\u001b[0;34m(\u001b[0m\u001b[0mn\u001b[0m\u001b[0;34m[\u001b[0m\u001b[0;36m0\u001b[0m\u001b[0;34m]\u001b[0m\u001b[0;34m,\u001b[0m \u001b[0mn\u001b[0m\u001b[0;34m[\u001b[0m\u001b[0;36m1\u001b[0m\u001b[0;34m]\u001b[0m\u001b[0;34m)\u001b[0m\u001b[0;34m\u001b[0m\u001b[0;34m\u001b[0m\u001b[0m\n\u001b[1;32m      8\u001b[0m     \u001b[0;32mfor\u001b[0m \u001b[0mm\u001b[0m \u001b[0;32min\u001b[0m \u001b[0mrange\u001b[0m\u001b[0;34m(\u001b[0m\u001b[0mlen\u001b[0m\u001b[0;34m(\u001b[0m\u001b[0mfps\u001b[0m\u001b[0;34m)\u001b[0m\u001b[0;34m)\u001b[0m\u001b[0;34m:\u001b[0m\u001b[0;34m\u001b[0m\u001b[0;34m\u001b[0m\u001b[0m\n\u001b[0;32m----> 9\u001b[0;31m         \u001b[0mquery\u001b[0m\u001b[0;34m.\u001b[0m\u001b[0mappend\u001b[0m\u001b[0;34m(\u001b[0m\u001b[0mpred_results\u001b[0m\u001b[0;34m[\u001b[0m\u001b[0;34m'Canonical_SMILES'\u001b[0m\u001b[0;34m]\u001b[0m\u001b[0;34m[\u001b[0m\u001b[0mfps\u001b[0m\u001b[0;34m.\u001b[0m\u001b[0mindex\u001b[0m\u001b[0;34m(\u001b[0m\u001b[0mn\u001b[0m\u001b[0;34m[\u001b[0m\u001b[0;36m0\u001b[0m\u001b[0;34m]\u001b[0m\u001b[0;34m)\u001b[0m\u001b[0;34m]\u001b[0m\u001b[0;34m)\u001b[0m\u001b[0;34m\u001b[0m\u001b[0;34m\u001b[0m\u001b[0m\n\u001b[0m\u001b[1;32m     10\u001b[0m         \u001b[0mtarget\u001b[0m\u001b[0;34m.\u001b[0m\u001b[0mappend\u001b[0m\u001b[0;34m(\u001b[0m\u001b[0mpred_results\u001b[0m\u001b[0;34m[\u001b[0m\u001b[0;34m'Canonical_SMILES'\u001b[0m\u001b[0;34m]\u001b[0m\u001b[0;34m[\u001b[0m\u001b[0mfps\u001b[0m\u001b[0;34m.\u001b[0m\u001b[0mindex\u001b[0m\u001b[0;34m(\u001b[0m\u001b[0mn\u001b[0m\u001b[0;34m[\u001b[0m\u001b[0;36m1\u001b[0m\u001b[0;34m]\u001b[0m\u001b[0;34m)\u001b[0m\u001b[0;34m]\u001b[0m\u001b[0;34m)\u001b[0m\u001b[0;34m\u001b[0m\u001b[0;34m\u001b[0m\u001b[0m\n\u001b[1;32m     11\u001b[0m         \u001b[0msim\u001b[0m\u001b[0;34m.\u001b[0m\u001b[0mappend\u001b[0m\u001b[0;34m(\u001b[0m\u001b[0ms\u001b[0m\u001b[0;34m)\u001b[0m\u001b[0;34m\u001b[0m\u001b[0;34m\u001b[0m\u001b[0m\n",
      "\u001b[0;31mKeyboardInterrupt\u001b[0m: "
     ]
    }
   ],
   "source": [
    "mols = [Chem.MolFromSmiles(x) for x in pred_results['Canonical_SMILES']]\n",
    "fps = [FingerprintMols.FingerprintMol(x) for x in mols]\n",
    "\n",
    "query, target, sim = [], [], []\n",
    "#itertools.product works top down\n",
    "for n in itertools.product(fps, fps):\n",
    "    s = DataStructs.FingerprintSimilarity(n[0], n[1])\n",
    "    for m in range(len(fps)):\n",
    "        query.append(pred_results['Canonical_SMILES'][fps.index(n[0])])\n",
    "        target.append(pred_results['Canonical_SMILES'][fps.index(n[1])])\n",
    "        sim.append(s)"
   ]
  },
  {
   "cell_type": "code",
   "execution_count": null,
   "metadata": {},
   "outputs": [],
   "source": [
    "def similarityGenerator(fp1, fp2):\n",
    "     s = DataStructs.Fingerprint(fp1, fp2)"
   ]
  },
  {
   "cell_type": "code",
   "execution_count": null,
   "metadata": {},
   "outputs": [],
   "source": [
    "#Making global vector correlational matrix\n",
    "\n",
    "pred_results\n",
    "for n in pred_results['']"
   ]
  },
  {
   "cell_type": "markdown",
   "metadata": {},
   "source": [
    "## ShAP Analysis <a name=\"ShAP\"></a>"
   ]
  },
  {
   "cell_type": "code",
   "execution_count": 153,
   "metadata": {},
   "outputs": [
    {
     "ename": "ModuleNotFoundError",
     "evalue": "No module named 'gnn.main'; 'gnn' is not a package",
     "output_type": "error",
     "traceback": [
      "\u001b[0;31m---------------------------------------------------------------------------\u001b[0m",
      "\u001b[0;31mModuleNotFoundError\u001b[0m                       Traceback (most recent call last)",
      "\u001b[0;32m<ipython-input-153-65905171d650>\u001b[0m in \u001b[0;36m<module>\u001b[0;34m\u001b[0m\n\u001b[1;32m      6\u001b[0m \u001b[0msys\u001b[0m\u001b[0;34m.\u001b[0m\u001b[0mpath\u001b[0m\u001b[0;34m.\u001b[0m\u001b[0mappend\u001b[0m\u001b[0;34m(\u001b[0m\u001b[0mos\u001b[0m\u001b[0;34m.\u001b[0m\u001b[0mpath\u001b[0m\u001b[0;34m.\u001b[0m\u001b[0mabspath\u001b[0m\u001b[0;34m(\u001b[0m\u001b[0;34m'./CN_prediction/'\u001b[0m\u001b[0;34m)\u001b[0m\u001b[0;34m)\u001b[0m\u001b[0;34m\u001b[0m\u001b[0;34m\u001b[0m\u001b[0m\n\u001b[1;32m      7\u001b[0m \u001b[0;32mfrom\u001b[0m \u001b[0mgnn\u001b[0m \u001b[0;32mimport\u001b[0m \u001b[0;34m*\u001b[0m\u001b[0;34m\u001b[0m\u001b[0;34m\u001b[0m\u001b[0m\n\u001b[0;32m----> 8\u001b[0;31m \u001b[0;32mfrom\u001b[0m \u001b[0mgnn\u001b[0m\u001b[0;34m.\u001b[0m\u001b[0mmain\u001b[0m \u001b[0;32mimport\u001b[0m \u001b[0mcn_pred\u001b[0m\u001b[0;34m\u001b[0m\u001b[0;34m\u001b[0m\u001b[0m\n\u001b[0m",
      "\u001b[0;31mModuleNotFoundError\u001b[0m: No module named 'gnn.main'; 'gnn' is not a package"
     ]
    }
   ],
   "source": [
    "import shap\n",
    "import tensorflow as tf\n",
    "import nfp\n",
    "import os\n",
    "import sys\n",
    "sys.path.append(os.path.abspath('./CN_prediction/'))\n",
    "from gnn import *"
   ]
  },
  {
   "cell_type": "code",
   "execution_count": 36,
   "metadata": {},
   "outputs": [],
   "source": [
    "cn_model = tf.keras.models.load_model('CN_prediction/model_files/2_sw6_fold0/best_model.h5', custom_objects = nfp.custom_objects)"
   ]
  },
  {
   "cell_type": "code",
   "execution_count": 88,
   "metadata": {},
   "outputs": [
    {
     "data": {
      "text/plain": [
       "(53, 9)"
      ]
     },
     "execution_count": 88,
     "metadata": {},
     "output_type": "execute_result"
    }
   ],
   "source": [
    "data = pd.read_csv('CN_prediction/data/CN_merged_210831.csv')\n",
    "train = data.sample(frac=.8)\n",
    "background = train.sample(frac=0.2)\n",
    "test = data[~data.index.isin(background.index)]\n",
    "test = test.sample(frac=0.1)\n",
    "\n",
    "background.iloc[0,-1]\n",
    "background.shape\n",
    "test.shape"
   ]
  },
  {
   "cell_type": "code",
   "execution_count": 67,
   "metadata": {},
   "outputs": [
    {
     "data": {
      "text/plain": [
       "{'atom': array([[2, 3, 3, 2]], dtype=int32),\n",
       " 'bond': array([[2, 2, 2, 2, 2, 2]], dtype=int32),\n",
       " 'connectivity': array([[[0, 1],\n",
       "         [1, 0],\n",
       "         [1, 2],\n",
       "         [2, 1],\n",
       "         [2, 3],\n",
       "         [3, 2]]], dtype=int32),\n",
       " 'mol_features': array([[0, 0]], dtype=int32)}"
      ]
     },
     "execution_count": 67,
     "metadata": {},
     "output_type": "execute_result"
    }
   ],
   "source": [
    "preprocessor = CustomPreprocessor(explicit_hs=False,\n",
    "    atom_features=atom_features,\n",
    "    bond_features=bond_features)\n",
    "preprocessor.from_json('./CN_prediction/model_files/2_sw6/preprocessor.json')\n",
    "inputs = preprocessor.construct_feature_matrices(background.iloc[0, -1])\n",
    "inputs = {key: np.expand_dims(inputs[key], axis=0) for key in ['atom','bond','connectivity','mol_features']} \n",
    "inputs"
   ]
  },
  {
   "cell_type": "code",
   "execution_count": 89,
   "metadata": {},
   "outputs": [],
   "source": [
    "output_signature = (preprocessor.output_signature,\n",
    "                        tf.TensorSpec(shape=(), dtype=tf.float32),\n",
    "                        tf.TensorSpec(shape=(), dtype=tf.float32))\n",
    "\n",
    "bg_data = tf.data.Dataset.from_generator(\n",
    "    lambda: create_tf_dataset(background['Canonical_SMILES'], preprocessor, 1.0, False), output_signature=output_signature)\\\n",
    "    .cache()\\\n",
    "    .padded_batch(batch_size=32)\\\n",
    "    .prefetch(tf.data.experimental.AUTOTUNE)\n",
    "\n",
    "test_ls = []\n",
    "\n",
    "for test_dat in test['Canonical_SMILES']:\n",
    "    test_pt = tf.data.Dataset.from_generator(\n",
    "        lambda: create_tf_dataset(test_dat, preprocessor, 1.0, False), output_signature=output_signature)\\\n",
    "        .cache()\\\n",
    "        .padded_batch(batch_size=32)\\\n",
    "        .prefetch(tf.data.experimental.AUTOTUNE)\n",
    "    test_ls.append(test_pt)\n",
    "    \n",
    "    \n",
    "test_data = tf.data.Dataset.from_generator(\n",
    "    lambda: create_tf_dataset(test['Canonical_SMILES'], preprocessor, 1.0, False), output_signature=output_signature)\\\n",
    "    .cache()\\\n",
    "    .padded_batch(batch_size=32)\\\n",
    "    .prefetch(tf.data.experimental.AUTOTUNE) \n"
   ]
  },
  {
   "cell_type": "code",
   "execution_count": 118,
   "metadata": {},
   "outputs": [
    {
     "data": {
      "text/plain": [
       "<PrefetchDataset shapes: ({atom: (None, None), bond: (None, None), connectivity: (None, None, 2), mol_features: (None, 2)}, (None,), (None,)), types: ({atom: tf.int32, bond: tf.int32, connectivity: tf.int32, mol_features: tf.float32}, tf.float32, tf.float32)>"
      ]
     },
     "execution_count": 118,
     "metadata": {},
     "output_type": "execute_result"
    }
   ],
   "source": [
    "test_data"
   ]
  },
  {
   "cell_type": "code",
   "execution_count": 91,
   "metadata": {},
   "outputs": [
    {
     "data": {
      "text/plain": [
       "<PrefetchDataset shapes: ({atom: (None, None), bond: (None, None), connectivity: (None, None, 2), mol_features: (None, 2)}, (None,), (None,)), types: ({atom: tf.int32, bond: tf.int32, connectivity: tf.int32, mol_features: tf.float32}, tf.float32, tf.float32)>"
      ]
     },
     "execution_count": 91,
     "metadata": {},
     "output_type": "execute_result"
    }
   ],
   "source": [
    "bg_data"
   ]
  },
  {
   "cell_type": "code",
   "execution_count": 103,
   "metadata": {},
   "outputs": [],
   "source": [
    "e = shap.GradientExplainer(cn_model, bg_data)"
   ]
  },
  {
   "cell_type": "code",
   "execution_count": 106,
   "metadata": {},
   "outputs": [
    {
     "ename": "AssertionError",
     "evalue": "Number of model inputs does not match the number given!",
     "output_type": "error",
     "traceback": [
      "\u001b[0;31m---------------------------------------------------------------------------\u001b[0m",
      "\u001b[0;31mAssertionError\u001b[0m                            Traceback (most recent call last)",
      "\u001b[0;32m<ipython-input-106-5ba37170c491>\u001b[0m in \u001b[0;36m<module>\u001b[0;34m\u001b[0m\n\u001b[0;32m----> 1\u001b[0;31m \u001b[0mshap_vals\u001b[0m \u001b[0;34m=\u001b[0m \u001b[0me\u001b[0m\u001b[0;34m.\u001b[0m\u001b[0mshap_values\u001b[0m\u001b[0;34m(\u001b[0m\u001b[0mtest_ls\u001b[0m\u001b[0;34m)\u001b[0m\u001b[0;34m\u001b[0m\u001b[0;34m\u001b[0m\u001b[0m\n\u001b[0m\u001b[1;32m      2\u001b[0m \u001b[0;34m\u001b[0m\u001b[0m\n\u001b[1;32m      3\u001b[0m \u001b[0mshap\u001b[0m\u001b[0;34m.\u001b[0m\u001b[0mplots\u001b[0m\u001b[0;34m.\u001b[0m\u001b[0mbeeswarm\u001b[0m\u001b[0;34m(\u001b[0m\u001b[0mshap_vals\u001b[0m\u001b[0;34m)\u001b[0m\u001b[0;34m\u001b[0m\u001b[0;34m\u001b[0m\u001b[0m\n",
      "\u001b[0;32m~/anaconda3/envs/cetanePred/lib/python3.9/site-packages/shap/explainers/_gradient.py\u001b[0m in \u001b[0;36mshap_values\u001b[0;34m(self, X, nsamples, ranked_outputs, output_rank_order, rseed, return_variances)\u001b[0m\n\u001b[1;32m    109\u001b[0m             \u001b[0mwere\u001b[0m \u001b[0mchosen\u001b[0m \u001b[0;32mas\u001b[0m \u001b[0;34m\"top\"\u001b[0m\u001b[0;34m.\u001b[0m\u001b[0;34m\u001b[0m\u001b[0;34m\u001b[0m\u001b[0m\n\u001b[1;32m    110\u001b[0m         \"\"\"\n\u001b[0;32m--> 111\u001b[0;31m         \u001b[0;32mreturn\u001b[0m \u001b[0mself\u001b[0m\u001b[0;34m.\u001b[0m\u001b[0mexplainer\u001b[0m\u001b[0;34m.\u001b[0m\u001b[0mshap_values\u001b[0m\u001b[0;34m(\u001b[0m\u001b[0mX\u001b[0m\u001b[0;34m,\u001b[0m \u001b[0mnsamples\u001b[0m\u001b[0;34m,\u001b[0m \u001b[0mranked_outputs\u001b[0m\u001b[0;34m,\u001b[0m \u001b[0moutput_rank_order\u001b[0m\u001b[0;34m,\u001b[0m \u001b[0mrseed\u001b[0m\u001b[0;34m,\u001b[0m \u001b[0mreturn_variances\u001b[0m\u001b[0;34m)\u001b[0m\u001b[0;34m\u001b[0m\u001b[0;34m\u001b[0m\u001b[0m\n\u001b[0m\u001b[1;32m    112\u001b[0m \u001b[0;34m\u001b[0m\u001b[0m\n\u001b[1;32m    113\u001b[0m \u001b[0;34m\u001b[0m\u001b[0m\n",
      "\u001b[0;32m~/anaconda3/envs/cetanePred/lib/python3.9/site-packages/shap/explainers/_gradient.py\u001b[0m in \u001b[0;36mshap_values\u001b[0;34m(self, X, nsamples, ranked_outputs, output_rank_order, rseed, return_variances)\u001b[0m\n\u001b[1;32m    205\u001b[0m         \u001b[0;32melse\u001b[0m\u001b[0;34m:\u001b[0m\u001b[0;34m\u001b[0m\u001b[0;34m\u001b[0m\u001b[0m\n\u001b[1;32m    206\u001b[0m             \u001b[0;32massert\u001b[0m \u001b[0mtype\u001b[0m\u001b[0;34m(\u001b[0m\u001b[0mX\u001b[0m\u001b[0;34m)\u001b[0m \u001b[0;34m==\u001b[0m \u001b[0mlist\u001b[0m\u001b[0;34m,\u001b[0m \u001b[0;34m\"Expected a list of model inputs!\"\u001b[0m\u001b[0;34m\u001b[0m\u001b[0;34m\u001b[0m\u001b[0m\n\u001b[0;32m--> 207\u001b[0;31m         \u001b[0;32massert\u001b[0m \u001b[0mlen\u001b[0m\u001b[0;34m(\u001b[0m\u001b[0mself\u001b[0m\u001b[0;34m.\u001b[0m\u001b[0mmodel_inputs\u001b[0m\u001b[0;34m)\u001b[0m \u001b[0;34m==\u001b[0m \u001b[0mlen\u001b[0m\u001b[0;34m(\u001b[0m\u001b[0mX\u001b[0m\u001b[0;34m)\u001b[0m\u001b[0;34m,\u001b[0m \u001b[0;34m\"Number of model inputs does not match the number given!\"\u001b[0m\u001b[0;34m\u001b[0m\u001b[0;34m\u001b[0m\u001b[0m\n\u001b[0m\u001b[1;32m    208\u001b[0m \u001b[0;34m\u001b[0m\u001b[0m\n\u001b[1;32m    209\u001b[0m         \u001b[0;31m# rank and determine the model outputs that we will explain\u001b[0m\u001b[0;34m\u001b[0m\u001b[0;34m\u001b[0m\u001b[0;34m\u001b[0m\u001b[0m\n",
      "\u001b[0;31mAssertionError\u001b[0m: Number of model inputs does not match the number given!"
     ]
    }
   ],
   "source": [
    "shap_vals = e.shap_values(test_ls)\n",
    "shap.plots.beeswarm(shap_vals)"
   ]
  },
  {
   "cell_type": "markdown",
   "metadata": {},
   "source": [
    "## Leave One Out Atom Feature Vectors <a name=\"LOOA\"></a>"
   ]
  },
  {
   "cell_type": "markdown",
   "metadata": {},
   "source": [
    "Since the ShAP library doesn't support zero padded inputs, we'll need to do something different. \n",
    "\n",
    "We'll rerun model predictions for several molecules, leaving one atom out of each run."
   ]
  },
  {
   "cell_type": "code",
   "execution_count": 1,
   "metadata": {},
   "outputs": [
    {
     "name": "stderr",
     "output_type": "stream",
     "text": [
      "/home/sabari/anaconda3/envs/cetanePred/lib/python3.9/site-packages/tqdm/auto.py:22: TqdmWarning: IProgress not found. Please update jupyter and ipywidgets. See https://ipywidgets.readthedocs.io/en/stable/user_install.html\n",
      "  from .autonotebook import tqdm as notebook_tqdm\n"
     ]
    },
    {
     "data": {
      "text/plain": [
       "(53, 9)"
      ]
     },
     "execution_count": 1,
     "metadata": {},
     "output_type": "execute_result"
    }
   ],
   "source": [
    "import shap\n",
    "import tensorflow as tf\n",
    "import nfp\n",
    "import os\n",
    "import sys\n",
    "sys.path.append(os.path.abspath('./CN_prediction/'))\n",
    "from gnn import *\n",
    "import copy\n",
    "from rdkit import Chem\n",
    "data = pd.read_csv('CN_prediction/data/CN_merged_210831.csv')\n",
    "train = data.sample(frac=.8)\n",
    "background = train.sample(frac=0.2)\n",
    "test = data[~data.index.isin(background.index)]\n",
    "test = test.sample(frac=0.1)\n",
    "\n",
    "background.iloc[0,-1]\n",
    "background.shape\n",
    "test.shape"
   ]
  },
  {
   "cell_type": "raw",
   "metadata": {},
   "source": [
    "For a molecule in the test set, iteratively set each atom feature to zero. "
   ]
  },
  {
   "cell_type": "code",
   "execution_count": 2,
   "metadata": {},
   "outputs": [
    {
     "data": {
      "text/plain": [
       "{'atom': array([ 2,  3,  3,  3,  3,  3,  3,  5,  3,  4,  2,  2,  3,  4,  2,  2, 10,\n",
       "        11, 11, 11, 11, 11], dtype=int32),\n",
       " 'bond': array([2, 2, 2, 2, 2, 2, 2, 2, 2, 2, 2, 2, 2, 2, 2, 2, 2, 2, 2, 2, 2, 2,\n",
       "        2, 2, 2, 2, 2, 2, 2, 2, 2, 2, 9, 9, 9, 9, 9, 9, 9, 9, 9, 9, 9, 9],\n",
       "       dtype=int32),\n",
       " 'connectivity': array([[ 0,  1],\n",
       "        [ 1,  0],\n",
       "        [ 1,  2],\n",
       "        [ 2,  1],\n",
       "        [ 2,  3],\n",
       "        [ 3,  2],\n",
       "        [ 3,  4],\n",
       "        [ 4,  3],\n",
       "        [ 4,  5],\n",
       "        [ 5,  4],\n",
       "        [ 5,  6],\n",
       "        [ 6,  5],\n",
       "        [ 6,  7],\n",
       "        [ 7,  6],\n",
       "        [ 7,  8],\n",
       "        [ 7, 12],\n",
       "        [ 7, 16],\n",
       "        [ 8,  7],\n",
       "        [ 8,  9],\n",
       "        [ 9,  8],\n",
       "        [ 9, 10],\n",
       "        [ 9, 11],\n",
       "        [10,  9],\n",
       "        [11,  9],\n",
       "        [12,  7],\n",
       "        [12, 13],\n",
       "        [13, 12],\n",
       "        [13, 14],\n",
       "        [13, 15],\n",
       "        [14, 13],\n",
       "        [15, 13],\n",
       "        [16,  7],\n",
       "        [16, 17],\n",
       "        [16, 21],\n",
       "        [17, 16],\n",
       "        [17, 18],\n",
       "        [18, 17],\n",
       "        [18, 19],\n",
       "        [19, 18],\n",
       "        [19, 20],\n",
       "        [20, 19],\n",
       "        [20, 21],\n",
       "        [21, 20],\n",
       "        [21, 16]], dtype=int32),\n",
       " 'mol_features': <tf.Tensor: shape=(2,), dtype=int32, numpy=array([0, 0], dtype=int32)>}"
      ]
     },
     "execution_count": 2,
     "metadata": {},
     "output_type": "execute_result"
    }
   ],
   "source": [
    "preprocessor = CustomPreprocessor(explicit_hs=False,\n",
    "    atom_features=atom_features,\n",
    "    bond_features=bond_features)\n",
    "preprocessor.from_json('./CN_prediction/model_files/051722Global/preprocessor.json')\n",
    "inputs = preprocessor.construct_feature_matrices(background.iloc[0, -1])\n",
    "inputs"
   ]
  },
  {
   "cell_type": "code",
   "execution_count": 3,
   "metadata": {},
   "outputs": [
    {
     "name": "stdout",
     "output_type": "stream",
     "text": [
      "WARNING:tensorflow:From /home/sabari/anaconda3/envs/cetanePred/lib/python3.9/site-packages/tensorflow/python/ops/array_ops.py:5043: calling gather (from tensorflow.python.ops.array_ops) with validate_indices is deprecated and will be removed in a future version.\n",
      "Instructions for updating:\n",
      "The `validate_indices` argument has no effect. Indices are always validated on CPU and never validated on GPU.\n",
      "15.85\n",
      "13.81\n",
      "13.05\n",
      "12.81\n",
      "12.8\n",
      "12.98\n",
      "13.84\n",
      "43.31\n",
      "15.1\n",
      "17.35\n",
      "14.11\n",
      "14.11\n",
      "15.1\n",
      "17.35\n",
      "14.11\n",
      "14.11\n",
      "22.54\n",
      "15.62\n",
      "15.6\n",
      "15.48\n",
      "15.6\n",
      "15.62\n"
     ]
    }
   ],
   "source": [
    "model = tf.keras.models.load_model('./CN_prediction/model_files/051722Global/best_model.h5', custom_objects = nfp.custom_objects)\n",
    "cns = []\n",
    "for ind, inp in enumerate(inputs['atom']):\n",
    "    new_ = copy.deepcopy(inputs)\n",
    "    new_['atom'][ind] = 1\n",
    "    new_ = {key: np.expand_dims(new_[key], axis=0) for key in ['atom','bond','connectivity','mol_features']} \n",
    "    predicted_CN = model.predict(new_).squeeze().squeeze()\n",
    "    predicted_CN = np.round(predicted_CN,2)\n",
    "    print(predicted_CN)\n",
    "    cns.append(predicted_CN)\n",
    "        "
   ]
  },
  {
   "cell_type": "code",
   "execution_count": 4,
   "metadata": {},
   "outputs": [
    {
     "data": {
      "text/plain": [
       "[15.85,\n",
       " 13.81,\n",
       " 13.05,\n",
       " 12.81,\n",
       " 12.8,\n",
       " 12.98,\n",
       " 13.84,\n",
       " 43.31,\n",
       " 15.1,\n",
       " 17.35,\n",
       " 14.11,\n",
       " 14.11,\n",
       " 15.1,\n",
       " 17.35,\n",
       " 14.11,\n",
       " 14.11,\n",
       " 22.54,\n",
       " 15.62,\n",
       " 15.6,\n",
       " 15.48,\n",
       " 15.6,\n",
       " 15.62]"
      ]
     },
     "execution_count": 4,
     "metadata": {},
     "output_type": "execute_result"
    }
   ],
   "source": [
    "cns        "
   ]
  },
  {
   "cell_type": "code",
   "execution_count": 5,
   "metadata": {},
   "outputs": [
    {
     "name": "stdout",
     "output_type": "stream",
     "text": [
      "CCCCCCCC(CC(C)C)(CC(C)C)c1ccccc1\n"
     ]
    }
   ],
   "source": [
    "print(background.iloc[0, -1])\n"
   ]
  },
  {
   "cell_type": "code",
   "execution_count": 6,
   "metadata": {},
   "outputs": [
    {
     "data": {
      "text/plain": [
       "15.62"
      ]
     },
     "execution_count": 6,
     "metadata": {},
     "output_type": "execute_result"
    }
   ],
   "source": [
    "inputs = preprocessor.construct_feature_matrices(background.iloc[0, -1])\n",
    "inputs = {key: np.expand_dims(inputs[key], axis=0) for key in ['atom','bond','connectivity','mol_features']} \n",
    "pred = model.predict(inputs).squeeze().squeeze()\n",
    "pred = np.round(pred,2)\n",
    "(predicted_CN)"
   ]
  },
  {
   "cell_type": "code",
   "execution_count": 36,
   "metadata": {},
   "outputs": [
    {
     "data": {
      "text/plain": [
       "{'atom': array([2, 3, 3, 4, 7, 3, 5, 6, 6, 2], dtype=int32),\n",
       " 'bond': array([2, 2, 2, 2, 2, 2, 5, 2, 7, 2, 2, 2, 4, 5, 6, 7, 7, 5], dtype=int32),\n",
       " 'connectivity': array([[0, 1],\n",
       "        [1, 0],\n",
       "        [1, 2],\n",
       "        [2, 1],\n",
       "        [2, 3],\n",
       "        [3, 2],\n",
       "        [3, 4],\n",
       "        [3, 5],\n",
       "        [4, 3],\n",
       "        [5, 3],\n",
       "        [5, 6],\n",
       "        [6, 5],\n",
       "        [6, 7],\n",
       "        [6, 8],\n",
       "        [7, 6],\n",
       "        [8, 6],\n",
       "        [8, 9],\n",
       "        [9, 8]], dtype=int32),\n",
       " 'mol_features': <tf.Tensor: shape=(2,), dtype=int32, numpy=array([3, 1], dtype=int32)>}"
      ]
     },
     "execution_count": 36,
     "metadata": {},
     "output_type": "execute_result"
    }
   ],
   "source": [
    "target_smiles = Chem.MolToSmiles(Chem.MolFromSmiles('CCCC(CC(=O)OC)O'))\n",
    "preprocessor = CustomPreprocessor(explicit_hs=False,\n",
    "    atom_features=atom_features,\n",
    "    bond_features=bond_features)\n",
    "preprocessor.from_json('./CN_prediction/model_files/2_sw6/preprocessor.json')\n",
    "inputs = preprocessor.construct_feature_matrices(target_smiles)\n",
    "inputs"
   ]
  },
  {
   "cell_type": "code",
   "execution_count": 37,
   "metadata": {},
   "outputs": [
    {
     "name": "stdout",
     "output_type": "stream",
     "text": [
      "22.74\n",
      "20.66\n",
      "20.68\n",
      "19.45\n",
      "29.98\n",
      "25.22\n",
      "31.03\n",
      "24.9\n",
      "20.04\n",
      "21.89\n"
     ]
    }
   ],
   "source": [
    "model = tf.keras.models.load_model('./CN_prediction/model_files/2_sw6/best_model.h5', custom_objects = nfp.custom_objects)\n",
    "cns = []\n",
    "for ind, inp in enumerate(inputs['atom']):\n",
    "    new_ = copy.deepcopy(inputs)\n",
    "    new_['atom'][ind] = 0\n",
    "    new_ = {key: np.expand_dims(new_[key], axis=0) for key in ['atom','bond','connectivity','mol_features']} \n",
    "    predicted_CN = model.predict(new_).squeeze().squeeze()\n",
    "    predicted_CN = np.round(predicted_CN,2)\n",
    "    print(predicted_CN)\n",
    "    cns.append(predicted_CN)"
   ]
  },
  {
   "cell_type": "code",
   "execution_count": 39,
   "metadata": {},
   "outputs": [
    {
     "data": {
      "text/plain": [
       "21.89"
      ]
     },
     "execution_count": 39,
     "metadata": {},
     "output_type": "execute_result"
    }
   ],
   "source": [
    "inputs = preprocessor.construct_feature_matrices(target_smiles)\n",
    "inputs = {key: np.expand_dims(inputs[key], axis=0) for key in ['atom','bond','connectivity','mol_features']} \n",
    "pred = model.predict(inputs).squeeze().squeeze()\n",
    "pred = np.round(pred,2)\n",
    "(predicted_CN)"
   ]
  },
  {
   "cell_type": "code",
   "execution_count": 40,
   "metadata": {},
   "outputs": [],
   "source": [
    "delta_cn = abs(cns - predicted_CN)/predicted_CN"
   ]
  },
  {
   "cell_type": "code",
   "execution_count": 41,
   "metadata": {},
   "outputs": [
    {
     "data": {
      "text/plain": [
       "array([0.03883053, 0.05619002, 0.05527634, 0.11146636, 0.36957517,\n",
       "       0.15212426, 0.41754234, 0.13750573, 0.08451341, 0.        ],\n",
       "      dtype=float32)"
      ]
     },
     "execution_count": 41,
     "metadata": {},
     "output_type": "execute_result"
    }
   ],
   "source": [
    "delta_cn"
   ]
  },
  {
   "cell_type": "code",
   "execution_count": 42,
   "metadata": {},
   "outputs": [
    {
     "data": {
      "text/plain": [
       "'CCCC(O)CC(=O)OCCCCC(O)CC(=O)OCCCCC(O)CC(=O)OCCCCC(O)CC(=O)OCCCCC(O)CC(=O)OCCCCC(O)CC(=O)OCCCCC(O)CC(=O)OCCCCC(O)CC(=O)OCCCCC(O)CC(=O)OCCCCC(O)CC(=O)OC'"
      ]
     },
     "execution_count": 42,
     "metadata": {},
     "output_type": "execute_result"
    }
   ],
   "source": [
    "smi = target_smiles * len(delta_cn)\n",
    "smi"
   ]
  },
  {
   "cell_type": "code",
   "execution_count": 43,
   "metadata": {},
   "outputs": [],
   "source": [
    "inp_ = {'SMILES': target_smiles, 'AtomIndex': [x for x in range(len(cns))],'PredictedCetane': cns, 'DeltaCN': delta_cn}\n",
    "save_df = pd.DataFrame.from_dict(inp_)"
   ]
  },
  {
   "cell_type": "code",
   "execution_count": 44,
   "metadata": {},
   "outputs": [],
   "source": [
    "save_df.to_csv('./AtomDropout/methyl3hydroxyhexanoate.csv')"
   ]
  },
  {
   "cell_type": "code",
   "execution_count": null,
   "metadata": {},
   "outputs": [],
   "source": []
  }
 ],
 "metadata": {
  "kernelspec": {
   "display_name": "cetanePred",
   "language": "python",
   "name": "cetanepred"
  },
  "language_info": {
   "codemirror_mode": {
    "name": "ipython",
    "version": 3
   },
   "file_extension": ".py",
   "mimetype": "text/x-python",
   "name": "python",
   "nbconvert_exporter": "python",
   "pygments_lexer": "ipython3",
   "version": "3.9.6"
  }
 },
 "nbformat": 4,
 "nbformat_minor": 4
}
